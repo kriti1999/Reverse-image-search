{
 "cells": [
  {
   "cell_type": "markdown",
   "metadata": {},
   "source": [
    "### Step 0 Import dependencies"
   ]
  },
  {
   "cell_type": "code",
   "execution_count": 129,
   "metadata": {},
   "outputs": [],
   "source": [
    "import numpy as np\n",
    "import os\n",
    "import cv2\n",
    "import matplotlib.pyplot as plt\n",
    "import pandas as pd\n",
    "import pickle\n",
    "import tensorflow as tf\n",
    "\n",
    "from tqdm import tqdm\n",
    "from scipy.spatial.distance import hamming, cosine\n",
    "\n",
    "%matplotlib inline"
   ]
  },
  {
   "cell_type": "markdown",
   "metadata": {},
   "source": [
    "### Step 1 Dataset utils and preprocessing"
   ]
  },
  {
   "cell_type": "code",
   "execution_count": 2,
   "metadata": {},
   "outputs": [],
   "source": [
    "def image_loader(image_path, image_size):\n",
    "    image = cv2.imread(image_path)\n",
    "    image = cv2.cvtColor(image, cv2.COLOR_BGR2RGB)\n",
    "    image = cv2.resize(image, image_size, cv2.INTER_CUBIC)\n",
    "    return image"
   ]
  },
  {
   "cell_type": "code",
   "execution_count": 3,
   "metadata": {},
   "outputs": [],
   "source": [
    "def dataset_preprocessing(dataset_path, labels_file_path, image_size, image_paths_pickle):\n",
    "    with open(labels_file_path, 'r') as f:\n",
    "        classes = f.read().split('\\n')[:-1]\n",
    "        \n",
    "    \n",
    "    images = []\n",
    "    labels = []\n",
    "    image_paths = []\n",
    "    \n",
    "    for image_name in os.listdir(dataset_path):\n",
    "        try:\n",
    "            image_path = os.path.join(dataset_path, image_name)\n",
    "            images.append(image_loader(image_path, image_size))\n",
    "            image_paths.append(image_path)\n",
    "            for idx in range(len(classes)):\n",
    "                if classes[idx] in image_name:\n",
    "                    labels.append(idx)\n",
    "        except:\n",
    "            pass\n",
    "    \n",
    "    with open(image_paths_pickle + \".pickle\", 'wb') as f:\n",
    "        pickle.dump(image_paths, f)\n",
    "    \n",
    "    assert len(images) == len(labels)\n",
    "    return np.array(images), np.array(labels)"
   ]
  },
  {
   "cell_type": "markdown",
   "metadata": {},
   "source": [
    "### Step 2 Utils function"
   ]
  },
  {
   "cell_type": "code",
   "execution_count": 4,
   "metadata": {},
   "outputs": [],
   "source": [
    "def cosine_distance(training_set_vectors, query_vector, top_n=50):\n",
    "    distances = []\n",
    "    \n",
    "    for i in range(len(training_set_vectors)):\n",
    "        distances.append(cosine(training_set_vectors[i], query_vector[0]))\n",
    "        \n",
    "    return np.argsort(distances)[:top_n]"
   ]
  },
  {
   "cell_type": "code",
   "execution_count": 5,
   "metadata": {},
   "outputs": [],
   "source": [
    "def hamming_distance(training_set_vectors, query_vector, top_n=50):\n",
    "    distances = []\n",
    "    \n",
    "    for i in range(len(training_set_vectors)):\n",
    "        distances.append(hamming(training_set_vectors[i], query_vector[0]))\n",
    "        \n",
    "    return np.argsort(distances)[:top_n]   "
   ]
  },
  {
   "cell_type": "code",
   "execution_count": 6,
   "metadata": {},
   "outputs": [],
   "source": [
    "def sparse_accuracy(true_labels, predicted_labels):\n",
    "    assert len(true_labels) == len(predicted_labels)\n",
    "    \n",
    "    correct = 0\n",
    "    \n",
    "    for i in range(len(true_labels)):\n",
    "        \n",
    "        if np.argmax(predicted_labels[i]) == true_labels[i]:\n",
    "            correct += 1\n",
    "            \n",
    "    return correct / len(true_labels)"
   ]
  },
  {
   "cell_type": "markdown",
   "metadata": {},
   "source": [
    "### Step 3 Model utils"
   ]
  },
  {
   "cell_type": "code",
   "execution_count": 7,
   "metadata": {},
   "outputs": [],
   "source": [
    "def model_inputs(image_size):\n",
    "    '''\n",
    "    Defines CNN inputs (placeholders).\n",
    "    \n",
    "    :param image_size: tuple, (height, width) of an image\n",
    "    '''\n",
    "    #-> [Batch_size, image_size[0], image_size[1], 3]\n",
    "    inputs = tf.placeholder(dtype=tf.float32, shape=[None, image_size[0], image_size[1], 3], name='images')\n",
    "    targets = tf.placeholder(dtype=tf.int32, shape=[None,], name='targets')\n",
    "    dropout_prob = tf.placeholder(dtype=tf.float32, name='dropout_probs')\n",
    "    \n",
    "    return inputs, targets, dropout_prob"
   ]
  },
  {
   "cell_type": "code",
   "execution_count": 8,
   "metadata": {},
   "outputs": [],
   "source": [
    "def conv_block(inputs, \n",
    "               number_of_filters, \n",
    "               kernel_size, \n",
    "               strides=(1, 1), \n",
    "               padding='SAME', \n",
    "               activation=tf.nn.relu, \n",
    "               max_pool=True, \n",
    "               batch_norm=True):\n",
    "    \n",
    "    '''\n",
    "    Defines convolutional block layer.\n",
    "    \n",
    "    :param inputs: data from a previous layer\n",
    "    :param number_of_filters: integer, number of conv filters\n",
    "    :param kernel_size: tuple, size of conv layer kernel\n",
    "    :param padding: string, type of padding technique: SAME or VALID\n",
    "    :param activation: tf.object, activation function used on the layer\n",
    "    :param max_pool: boolean, if true the conv block will use max_pool\n",
    "    :param batch_norm: boolean, if true the conv block will use batch normalization\n",
    "    '''\n",
    "    \n",
    "    conv_features = layer = tf.layers.conv2d(inputs=inputs, \n",
    "                                             filters=number_of_filters, \n",
    "                                             kernel_size=kernel_size, \n",
    "                                             strides=strides, \n",
    "                                             padding=padding, \n",
    "                                             activation=activation)\n",
    "    \n",
    "    if max_pool:\n",
    "        layer = tf.layers.max_pooling2d(layer, \n",
    "                                        pool_size=(2, 2), \n",
    "                                        strides=(2, 2),\n",
    "                                        padding='SAME')\n",
    "        \n",
    "    if batch_norm:\n",
    "        layer = tf.layers.batch_normalization(layer)\n",
    "        \n",
    "    return layer, conv_features"
   ]
  },
  {
   "cell_type": "code",
   "execution_count": 9,
   "metadata": {},
   "outputs": [],
   "source": [
    "def dense_block(inputs, \n",
    "                units, \n",
    "                activation=tf.nn.relu, \n",
    "                dropout_rate=None, \n",
    "                batch_norm=True):\n",
    "    \n",
    "    '''\n",
    "    Defines dense block layer.\n",
    "    \n",
    "    :param inputs: data from a previous layer\n",
    "    :param units: integer, number of neurons/units for a dense layer\n",
    "    :param activation: tf.object, activation function used on the layer\n",
    "    :param dropout_rate: dropout rate used in this dense block\n",
    "    :param batch_norm: boolean, if true the conv block will use batch normalization\n",
    "    '''\n",
    "    \n",
    "    dense_features = layer = tf.layers.dense(inputs, \n",
    "                                             units=units, \n",
    "                                             activation=activation)\n",
    "    \n",
    "    if dropout_rate is not None:\n",
    "        layer = tf.layers.dropout(layer, rate=dropout_rate)\n",
    "    \n",
    "    if batch_norm:\n",
    "        layer = tf.layers.batch_normalization(layer)\n",
    "        \n",
    "    return layer, dense_features"
   ]
  },
  {
   "cell_type": "code",
   "execution_count": 10,
   "metadata": {},
   "outputs": [],
   "source": [
    "def opt_loss(logits, \n",
    "             targets, \n",
    "             learning_rate):\n",
    "    \n",
    "    '''\n",
    "    Defines model's optimizer and loss functions.\n",
    "    \n",
    "    :param logits: pre-activated model outputs\n",
    "    :param targets: true labels for each input sample\n",
    "    :param learning_rate: learning_rate\n",
    "    '''\n",
    "    \n",
    "    loss = tf.reduce_mean(tf.nn.sparse_softmax_cross_entropy_with_logits(labels=targets, logits=logits))\n",
    "    \n",
    "    optimizer = tf.train.AdamOptimizer(learning_rate=learning_rate).minimize(loss)\n",
    "    \n",
    "    return loss, optimizer"
   ]
  },
  {
   "cell_type": "markdown",
   "metadata": {},
   "source": [
    "![](helper_images/conv_model.png)\n",
    "Image from: *https://github.com/deep-diver/CIFAR10-img-classification-tensorflow*"
   ]
  },
  {
   "cell_type": "code",
   "execution_count": 11,
   "metadata": {},
   "outputs": [],
   "source": [
    "class ImageSearchModel(object):\n",
    "    \n",
    "    def __init__(self, \n",
    "                 learning_rate, \n",
    "                 image_size, \n",
    "                 number_of_classes=10):\n",
    "        \n",
    "        '''\n",
    "        Defines CNN model.\n",
    "        \n",
    "        :param learning_rate: learning_rate\n",
    "        :param image_size: tuple, (height, width) of an image\n",
    "        :param number_of_classes: integer, number of classes in a dataset.\n",
    "        '''\n",
    "        \n",
    "        tf.reset_default_graph()\n",
    "        \n",
    "        #model inputs\n",
    "        self.inputs, self.targets, self.dropout_rate = model_inputs(image_size)\n",
    "        \n",
    "        normalized_images = tf.layers.batch_normalization(self.inputs)\n",
    "        \n",
    "        #conv_1 block\n",
    "        conv_block_1, self.conv_1_features = conv_block(inputs=normalized_images, \n",
    "                                                        number_of_filters=64, \n",
    "                                                        kernel_size=(3, 3), \n",
    "                                                        strides=(1, 1), \n",
    "                                                        padding='SAME', \n",
    "                                                        activation=tf.nn.relu, \n",
    "                                                        max_pool=True, \n",
    "                                                        batch_norm=True)\n",
    "        \n",
    " \n",
    "        #conv_2 block\n",
    "        conv_block_2, self.conv_2_features = conv_block(inputs=conv_block_1, \n",
    "                                                        number_of_filters=128, \n",
    "                                                        kernel_size=(3, 3), \n",
    "                                                        strides=(1, 1), \n",
    "                                                        padding='SAME', \n",
    "                                                        activation=tf.nn.relu, \n",
    "                                                        max_pool=True, \n",
    "                                                        batch_norm=True)\n",
    "        \n",
    "        #conv_3 block\n",
    "        conv_block_3, self.conv_3_features = conv_block(inputs=conv_block_2, \n",
    "                                                        number_of_filters=256, \n",
    "                                                        kernel_size=(5, 5), \n",
    "                                                        strides=(1, 1), \n",
    "                                                        padding='SAME', \n",
    "                                                        activation=tf.nn.relu, \n",
    "                                                        max_pool=True, \n",
    "                                                        batch_norm=True)\n",
    "        \n",
    "        #conv_4 block\n",
    "        conv_block_4, self.conv_4_features = conv_block(inputs=conv_block_3, \n",
    "                                                        number_of_filters=512, \n",
    "                                                        kernel_size=(5, 5), \n",
    "                                                        strides=(1, 1), \n",
    "                                                        padding='SAME', \n",
    "                                                        activation=tf.nn.relu, \n",
    "                                                        max_pool=True, \n",
    "                                                        batch_norm=True)\n",
    "        \n",
    "        #flattening\n",
    "        flat_layer = tf.layers.flatten(conv_block_4)\n",
    "        \n",
    "        #1st dense block\n",
    "        dense_block_1, dense_1_features = dense_block(inputs=flat_layer, \n",
    "                                                       units=128, \n",
    "                                                       activation=tf.nn.relu, \n",
    "                                                       dropout_rate=self.dropout_rate, \n",
    "                                                       batch_norm=True)\n",
    "        \n",
    "        #2nd dense block\n",
    "        dense_block_2, self.dense_2_features = dense_block(inputs=dense_block_1, \n",
    "                                                       units=256, \n",
    "                                                       activation=tf.nn.relu, \n",
    "                                                       dropout_rate=self.dropout_rate, \n",
    "                                                       batch_norm=True)\n",
    "        \n",
    "        #3rd dense block\n",
    "        dense_block_3, self.dense_3_features = dense_block(inputs=dense_block_2, \n",
    "                                                       units=512, \n",
    "                                                       activation=tf.nn.relu, \n",
    "                                                       dropout_rate=self.dropout_rate, \n",
    "                                                       batch_norm=True)\n",
    "        \n",
    "        #4th dense block\n",
    "        dense_block_4, self.dense_4_features = dense_block(inputs=dense_block_3, \n",
    "                                                       units=1024, \n",
    "                                                       activation=tf.nn.relu, \n",
    "                                                       dropout_rate=self.dropout_rate, \n",
    "                                                       batch_norm=True)\n",
    "        \n",
    "        #output layer\n",
    "        logits = tf.layers.dense(inputs=dense_block_4, \n",
    "                                 units=number_of_classes, \n",
    "                                 activation=None)\n",
    "        \n",
    "        self.predictions = tf.nn.softmax(logits)\n",
    "        \n",
    "        self.loss, self.optimizer = opt_loss(logits=logits, \n",
    "                                             targets=self.targets, \n",
    "                                             learning_rate=learning_rate)"
   ]
  },
  {
   "cell_type": "markdown",
   "metadata": {},
   "source": [
    "### Step 4 Training loop - training the model"
   ]
  },
  {
   "cell_type": "code",
   "execution_count": 12,
   "metadata": {},
   "outputs": [],
   "source": [
    "def train(model, \n",
    "          epochs,\n",
    "          drop_rate,\n",
    "          batch_size, \n",
    "          data, \n",
    "          save_dir, \n",
    "          saver_delta=0.15):\n",
    "    \n",
    "    '''\n",
    "    The core training function, use this function to train a model.\n",
    "    \n",
    "    :param model: CNN model\n",
    "    :param epochs: integer, number of epochs\n",
    "    :param drop_rate: float, dropout_rate\n",
    "    :param batch_size: integer, number of samples to put through the model at once\n",
    "    :param data: tuple, train-test data Example(X_train, y_train, X_test, y_test)\n",
    "    :param save_dir: string, path to a folder where model checkpoints will be saved\n",
    "    :param saver_delta: float, used to prevent overfitted model to be saved\n",
    "    '''\n",
    "    \n",
    "    X_train, y_train, X_test, y_test = data\n",
    "    \n",
    "    #start session\n",
    "    session = tf.Session()\n",
    "    session.run(tf.global_variables_initializer())\n",
    "    \n",
    "    #define saver\n",
    "    saver = tf.train.Saver()\n",
    "    \n",
    "    best_test_accuracy = 0.0\n",
    "    #start training loop\n",
    "    for epoch in range(epochs):\n",
    "        \n",
    "        train_accuracy = []\n",
    "        train_loss = []\n",
    "        \n",
    "        for ii in tqdm(range(len(X_train) // batch_size)):\n",
    "            start_id = ii*batch_size\n",
    "            end_id = start_id + batch_size\n",
    "            \n",
    "            X_batch = X_train[start_id:end_id]\n",
    "            y_batch = y_train[start_id:end_id]\n",
    "            \n",
    "            feed_dict = {model.inputs:X_batch, \n",
    "                         model.targets:y_batch, \n",
    "                         model.dropout_rate:drop_rate}\n",
    "            \n",
    "            _, t_loss, preds_t = session.run([model.optimizer, model.loss, model.predictions], feed_dict=feed_dict)\n",
    "            \n",
    "            train_accuracy.append(sparse_accuracy(y_batch, preds_t))\n",
    "            train_loss.append(t_loss)\n",
    "            \n",
    "        print(\"Epoch: {}/{}\".format(epoch, epochs),  \n",
    "              \" | Training accuracy: {}\".format(np.mean(train_accuracy)), \n",
    "              \" | Training loss: {}\".format(np.mean(train_loss)) )\n",
    "        \n",
    "        test_accuracy = []\n",
    "        \n",
    "        for ii in tqdm(range(len(X_test) // batch_size)):\n",
    "            start_id = ii*batch_size\n",
    "            end_id = start_id + batch_size\n",
    "            \n",
    "            X_batch = X_test[start_id:end_id]\n",
    "            y_batch = y_test[start_id:end_id]\n",
    "            \n",
    "            feed_dict = {model.inputs:X_batch, \n",
    "                         model.dropout_rate:0.0}\n",
    "            \n",
    "            preds_test = session.run(model.predictions, feed_dict=feed_dict)\n",
    "            test_accuracy.append(sparse_accuracy(y_batch, preds_test))\n",
    "            \n",
    "        print(\"Test accuracy: {}\".format(np.mean(test_accuracy)))\n",
    "        \n",
    "        #saving the model\n",
    "        if np.mean(train_accuracy) > np.mean(test_accuracy): #to prevent underfitting\n",
    "            if np.abs(np.mean(train_accuracy) - np.mean(test_accuracy)) <= saver_delta: #to prevent overfit\n",
    "                if np.mean(test_accuracy) >= best_test_accuracy:\n",
    "                    best_test_accuracy = np.mean(test_accuracy)\n",
    "                    saver.save(session, \"{}/model_epoch_{}.ckpt\".format(save_dir, epoch))\n",
    "                    \n",
    "    session.close()"
   ]
  },
  {
   "cell_type": "markdown",
   "metadata": {},
   "source": [
    "#### Setting hyperparameters and training the model"
   ]
  },
  {
   "cell_type": "code",
   "execution_count": 13,
   "metadata": {},
   "outputs": [],
   "source": [
    "epochs = 20\n",
    "batch_size = 128\n",
    "learning_rate = 0.001\n",
    "dropout_probs = 0.6\n",
    "image_size = (32, 32)"
   ]
  },
  {
   "cell_type": "code",
   "execution_count": 14,
   "metadata": {},
   "outputs": [],
   "source": [
    "X_train, y_train = dataset_preprocessing('dataset/train/', 'dataset/labels.txt', image_size=image_size, image_paths_pickle=\"train_images_pickle\")"
   ]
  },
  {
   "cell_type": "code",
   "execution_count": 15,
   "metadata": {},
   "outputs": [
    {
     "data": {
      "text/plain": [
       "(50000, 32, 32, 3)"
      ]
     },
     "execution_count": 15,
     "metadata": {},
     "output_type": "execute_result"
    }
   ],
   "source": [
    "X_train.shape"
   ]
  },
  {
   "cell_type": "code",
   "execution_count": 16,
   "metadata": {},
   "outputs": [],
   "source": [
    "X_test, y_test = dataset_preprocessing('dataset/test/', 'dataset/labels.txt', image_size=image_size, image_paths_pickle=\"test_images_pickle\")"
   ]
  },
  {
   "cell_type": "code",
   "execution_count": 17,
   "metadata": {},
   "outputs": [
    {
     "data": {
      "text/plain": [
       "(10000, 32, 32, 3)"
      ]
     },
     "execution_count": 17,
     "metadata": {},
     "output_type": "execute_result"
    }
   ],
   "source": [
    "X_test.shape"
   ]
  },
  {
   "cell_type": "code",
   "execution_count": 18,
   "metadata": {},
   "outputs": [],
   "source": [
    "#define the model\n",
    "model = ImageSearchModel(learning_rate, image_size)"
   ]
  },
  {
   "cell_type": "code",
   "execution_count": 19,
   "metadata": {},
   "outputs": [],
   "source": [
    "data = (X_train, y_train, X_test, y_test)"
   ]
  },
  {
   "cell_type": "code",
   "execution_count": 87,
   "metadata": {
    "scrolled": false
   },
   "outputs": [
    {
     "name": "stderr",
     "output_type": "stream",
     "text": [
      "100%|████████████████████████████████████████████████████████████████████████████████| 390/390 [11:02<00:00,  1.70s/it]\n"
     ]
    },
    {
     "name": "stdout",
     "output_type": "stream",
     "text": [
      "Epoch: 0/20  | Training accuracy: 0.34372996794871796  | Training loss: 1.9067187309265137\n"
     ]
    },
    {
     "name": "stderr",
     "output_type": "stream",
     "text": [
      "100%|██████████████████████████████████████████████████████████████████████████████████| 78/78 [00:21<00:00,  3.76it/s]\n"
     ]
    },
    {
     "name": "stdout",
     "output_type": "stream",
     "text": [
      "Test accuracy: 0.5105168269230769\n"
     ]
    },
    {
     "name": "stderr",
     "output_type": "stream",
     "text": [
      "100%|████████████████████████████████████████████████████████████████████████████████| 390/390 [10:58<00:00,  1.67s/it]\n"
     ]
    },
    {
     "name": "stdout",
     "output_type": "stream",
     "text": [
      "Epoch: 1/20  | Training accuracy: 0.5532451923076923  | Training loss: 1.2362909317016602\n"
     ]
    },
    {
     "name": "stderr",
     "output_type": "stream",
     "text": [
      "100%|██████████████████████████████████████████████████████████████████████████████████| 78/78 [00:20<00:00,  3.70it/s]\n"
     ]
    },
    {
     "name": "stdout",
     "output_type": "stream",
     "text": [
      "Test accuracy: 0.6156850961538461\n"
     ]
    },
    {
     "name": "stderr",
     "output_type": "stream",
     "text": [
      "100%|████████████████████████████████████████████████████████████████████████████████| 390/390 [11:02<00:00,  1.68s/it]\n"
     ]
    },
    {
     "name": "stdout",
     "output_type": "stream",
     "text": [
      "Epoch: 2/20  | Training accuracy: 0.6390625  | Training loss: 1.0200424194335938\n"
     ]
    },
    {
     "name": "stderr",
     "output_type": "stream",
     "text": [
      "100%|██████████████████████████████████████████████████████████████████████████████████| 78/78 [00:20<00:00,  3.76it/s]\n"
     ]
    },
    {
     "name": "stdout",
     "output_type": "stream",
     "text": [
      "Test accuracy: 0.6670673076923077\n"
     ]
    },
    {
     "name": "stderr",
     "output_type": "stream",
     "text": [
      "100%|████████████████████████████████████████████████████████████████████████████████| 390/390 [10:51<00:00,  1.63s/it]\n"
     ]
    },
    {
     "name": "stdout",
     "output_type": "stream",
     "text": [
      "Epoch: 3/20  | Training accuracy: 0.6874799679487179  | Training loss: 0.891916811466217\n"
     ]
    },
    {
     "name": "stderr",
     "output_type": "stream",
     "text": [
      "100%|██████████████████████████████████████████████████████████████████████████████████| 78/78 [00:20<00:00,  3.91it/s]\n"
     ]
    },
    {
     "name": "stdout",
     "output_type": "stream",
     "text": [
      "Test accuracy: 0.674979967948718\n"
     ]
    },
    {
     "name": "stderr",
     "output_type": "stream",
     "text": [
      "100%|████████████████████████████████████████████████████████████████████████████████| 390/390 [11:21<00:00,  1.89s/it]\n"
     ]
    },
    {
     "name": "stdout",
     "output_type": "stream",
     "text": [
      "Epoch: 4/20  | Training accuracy: 0.7306490384615385  | Training loss: 0.7726221084594727\n"
     ]
    },
    {
     "name": "stderr",
     "output_type": "stream",
     "text": [
      "100%|██████████████████████████████████████████████████████████████████████████████████| 78/78 [00:21<00:00,  3.85it/s]\n"
     ]
    },
    {
     "name": "stdout",
     "output_type": "stream",
     "text": [
      "Test accuracy: 0.6774839743589743\n"
     ]
    },
    {
     "name": "stderr",
     "output_type": "stream",
     "text": [
      "100%|████████████████████████████████████████████████████████████████████████████████| 390/390 [10:30<00:00,  1.60s/it]\n"
     ]
    },
    {
     "name": "stdout",
     "output_type": "stream",
     "text": [
      "Epoch: 5/20  | Training accuracy: 0.7586738782051282  | Training loss: 0.6904270052909851\n"
     ]
    },
    {
     "name": "stderr",
     "output_type": "stream",
     "text": [
      "100%|██████████████████████████████████████████████████████████████████████████████████| 78/78 [00:19<00:00,  3.93it/s]\n"
     ]
    },
    {
     "name": "stdout",
     "output_type": "stream",
     "text": [
      "Test accuracy: 0.6898036858974359\n"
     ]
    },
    {
     "name": "stderr",
     "output_type": "stream",
     "text": [
      "100%|████████████████████████████████████████████████████████████████████████████████| 390/390 [10:22<00:00,  1.60s/it]\n"
     ]
    },
    {
     "name": "stdout",
     "output_type": "stream",
     "text": [
      "Epoch: 6/20  | Training accuracy: 0.7814503205128205  | Training loss: 0.6304998993873596\n"
     ]
    },
    {
     "name": "stderr",
     "output_type": "stream",
     "text": [
      "100%|██████████████████████████████████████████████████████████████████████████████████| 78/78 [00:19<00:00,  3.85it/s]\n"
     ]
    },
    {
     "name": "stdout",
     "output_type": "stream",
     "text": [
      "Test accuracy: 0.6567508012820513\n"
     ]
    },
    {
     "name": "stderr",
     "output_type": "stream",
     "text": [
      "100%|████████████████████████████████████████████████████████████████████████████████| 390/390 [10:23<00:00,  1.61s/it]\n"
     ]
    },
    {
     "name": "stdout",
     "output_type": "stream",
     "text": [
      "Epoch: 7/20  | Training accuracy: 0.8014423076923077  | Training loss: 0.5756016373634338\n"
     ]
    },
    {
     "name": "stderr",
     "output_type": "stream",
     "text": [
      "100%|██████████████████████████████████████████████████████████████████████████████████| 78/78 [00:19<00:00,  3.93it/s]\n"
     ]
    },
    {
     "name": "stdout",
     "output_type": "stream",
     "text": [
      "Test accuracy: 0.6306089743589743\n"
     ]
    },
    {
     "name": "stderr",
     "output_type": "stream",
     "text": [
      "100%|████████████████████████████████████████████████████████████████████████████████| 390/390 [10:26<00:00,  1.61s/it]\n"
     ]
    },
    {
     "name": "stdout",
     "output_type": "stream",
     "text": [
      "Epoch: 8/20  | Training accuracy: 0.8190905448717949  | Training loss: 0.5271407961845398\n"
     ]
    },
    {
     "name": "stderr",
     "output_type": "stream",
     "text": [
      "100%|██████████████████████████████████████████████████████████████████████████████████| 78/78 [00:19<00:00,  3.95it/s]\n"
     ]
    },
    {
     "name": "stdout",
     "output_type": "stream",
     "text": [
      "Test accuracy: 0.682792467948718\n"
     ]
    },
    {
     "name": "stderr",
     "output_type": "stream",
     "text": [
      "100%|████████████████████████████████████████████████████████████████████████████████| 390/390 [10:24<00:00,  1.59s/it]\n"
     ]
    },
    {
     "name": "stdout",
     "output_type": "stream",
     "text": [
      "Epoch: 9/20  | Training accuracy: 0.8406850961538461  | Training loss: 0.46897315979003906\n"
     ]
    },
    {
     "name": "stderr",
     "output_type": "stream",
     "text": [
      "100%|██████████████████████████████████████████████████████████████████████████████████| 78/78 [00:19<00:00,  3.92it/s]\n"
     ]
    },
    {
     "name": "stdout",
     "output_type": "stream",
     "text": [
      "Test accuracy: 0.6768830128205128\n"
     ]
    },
    {
     "name": "stderr",
     "output_type": "stream",
     "text": [
      "100%|████████████████████████████████████████████████████████████████████████████████| 390/390 [10:23<00:00,  1.60s/it]\n"
     ]
    },
    {
     "name": "stdout",
     "output_type": "stream",
     "text": [
      "Epoch: 10/20  | Training accuracy: 0.8602363782051282  | Training loss: 0.40817025303840637\n"
     ]
    },
    {
     "name": "stderr",
     "output_type": "stream",
     "text": [
      "100%|██████████████████████████████████████████████████████████████████████████████████| 78/78 [00:19<00:00,  3.94it/s]\n"
     ]
    },
    {
     "name": "stdout",
     "output_type": "stream",
     "text": [
      "Test accuracy: 0.6841947115384616\n"
     ]
    },
    {
     "name": "stderr",
     "output_type": "stream",
     "text": [
      "100%|████████████████████████████████████████████████████████████████████████████████| 390/390 [10:21<00:00,  1.59s/it]\n"
     ]
    },
    {
     "name": "stdout",
     "output_type": "stream",
     "text": [
      "Epoch: 11/20  | Training accuracy: 0.8782852564102565  | Training loss: 0.35594648122787476\n"
     ]
    },
    {
     "name": "stderr",
     "output_type": "stream",
     "text": [
      "100%|██████████████████████████████████████████████████████████████████████████████████| 78/78 [00:19<00:00,  3.95it/s]\n"
     ]
    },
    {
     "name": "stdout",
     "output_type": "stream",
     "text": [
      "Test accuracy: 0.6704727564102564\n"
     ]
    },
    {
     "name": "stderr",
     "output_type": "stream",
     "text": [
      "100%|████████████████████████████████████████████████████████████████████████████████| 390/390 [10:19<00:00,  1.58s/it]\n"
     ]
    },
    {
     "name": "stdout",
     "output_type": "stream",
     "text": [
      "Epoch: 12/20  | Training accuracy: 0.8900240384615384  | Training loss: 0.32763877511024475\n"
     ]
    },
    {
     "name": "stderr",
     "output_type": "stream",
     "text": [
      "100%|██████████████████████████████████████████████████████████████████████████████████| 78/78 [00:19<00:00,  3.93it/s]\n"
     ]
    },
    {
     "name": "stdout",
     "output_type": "stream",
     "text": [
      "Test accuracy: 0.676582532051282\n"
     ]
    },
    {
     "name": "stderr",
     "output_type": "stream",
     "text": [
      "100%|████████████████████████████████████████████████████████████████████████████████| 390/390 [10:20<00:00,  1.60s/it]\n"
     ]
    },
    {
     "name": "stdout",
     "output_type": "stream",
     "text": [
      "Epoch: 13/20  | Training accuracy: 0.9036658653846154  | Training loss: 0.284779816865921\n"
     ]
    },
    {
     "name": "stderr",
     "output_type": "stream",
     "text": [
      "100%|██████████████████████████████████████████████████████████████████████████████████| 78/78 [00:19<00:00,  3.95it/s]\n"
     ]
    },
    {
     "name": "stdout",
     "output_type": "stream",
     "text": [
      "Test accuracy: 0.6703725961538461\n"
     ]
    },
    {
     "name": "stderr",
     "output_type": "stream",
     "text": [
      "100%|████████████████████████████████████████████████████████████████████████████████| 390/390 [10:23<00:00,  1.59s/it]\n"
     ]
    },
    {
     "name": "stdout",
     "output_type": "stream",
     "text": [
      "Epoch: 14/20  | Training accuracy: 0.9129006410256411  | Training loss: 0.26108843088150024\n"
     ]
    },
    {
     "name": "stderr",
     "output_type": "stream",
     "text": [
      "100%|██████████████████████████████████████████████████████████████████████████████████| 78/78 [00:19<00:00,  3.93it/s]\n"
     ]
    },
    {
     "name": "stdout",
     "output_type": "stream",
     "text": [
      "Test accuracy: 0.6637620192307693\n"
     ]
    },
    {
     "name": "stderr",
     "output_type": "stream",
     "text": [
      "100%|████████████████████████████████████████████████████████████████████████████████| 390/390 [10:24<00:00,  1.60s/it]\n"
     ]
    },
    {
     "name": "stdout",
     "output_type": "stream",
     "text": [
      "Epoch: 15/20  | Training accuracy: 0.9222355769230769  | Training loss: 0.2328091412782669\n"
     ]
    },
    {
     "name": "stderr",
     "output_type": "stream",
     "text": [
      "100%|██████████████████████████████████████████████████████████████████████████████████| 78/78 [00:19<00:00,  3.90it/s]\n"
     ]
    },
    {
     "name": "stdout",
     "output_type": "stream",
     "text": [
      "Test accuracy: 0.6670673076923077\n"
     ]
    },
    {
     "name": "stderr",
     "output_type": "stream",
     "text": [
      "100%|████████████████████████████████████████████████████████████████████████████████| 390/390 [10:24<00:00,  1.59s/it]\n"
     ]
    },
    {
     "name": "stdout",
     "output_type": "stream",
     "text": [
      "Epoch: 16/20  | Training accuracy: 0.9356570512820512  | Training loss: 0.19722846150398254\n"
     ]
    },
    {
     "name": "stderr",
     "output_type": "stream",
     "text": [
      "100%|██████████████████████████████████████████████████████████████████████████████████| 78/78 [00:19<00:00,  3.94it/s]\n"
     ]
    },
    {
     "name": "stdout",
     "output_type": "stream",
     "text": [
      "Test accuracy: 0.6605568910256411\n"
     ]
    },
    {
     "name": "stderr",
     "output_type": "stream",
     "text": [
      "100%|████████████████████████████████████████████████████████████████████████████████| 390/390 [10:22<00:00,  1.60s/it]\n"
     ]
    },
    {
     "name": "stdout",
     "output_type": "stream",
     "text": [
      "Epoch: 17/20  | Training accuracy: 0.9415865384615385  | Training loss: 0.17786283791065216\n"
     ]
    },
    {
     "name": "stderr",
     "output_type": "stream",
     "text": [
      "100%|██████████████████████████████████████████████████████████████████████████████████| 78/78 [00:19<00:00,  3.94it/s]\n"
     ]
    },
    {
     "name": "stdout",
     "output_type": "stream",
     "text": [
      "Test accuracy: 0.66796875\n"
     ]
    },
    {
     "name": "stderr",
     "output_type": "stream",
     "text": [
      "100%|████████████████████████████████████████████████████████████████████████████████| 390/390 [10:26<00:00,  1.61s/it]\n"
     ]
    },
    {
     "name": "stdout",
     "output_type": "stream",
     "text": [
      "Epoch: 18/20  | Training accuracy: 0.9481169871794872  | Training loss: 0.15895798802375793\n"
     ]
    },
    {
     "name": "stderr",
     "output_type": "stream",
     "text": [
      "100%|██████████████████████████████████████████████████████████████████████████████████| 78/78 [00:19<00:00,  3.94it/s]\n"
     ]
    },
    {
     "name": "stdout",
     "output_type": "stream",
     "text": [
      "Test accuracy: 0.6850961538461539\n"
     ]
    },
    {
     "name": "stderr",
     "output_type": "stream",
     "text": [
      "100%|████████████████████████████████████████████████████████████████████████████████| 390/390 [10:27<00:00,  1.60s/it]\n"
     ]
    },
    {
     "name": "stdout",
     "output_type": "stream",
     "text": [
      "Epoch: 19/20  | Training accuracy: 0.9520032051282051  | Training loss: 0.14129625260829926\n"
     ]
    },
    {
     "name": "stderr",
     "output_type": "stream",
     "text": [
      "100%|██████████████████████████████████████████████████████████████████████████████████| 78/78 [00:19<00:00,  3.89it/s]\n"
     ]
    },
    {
     "name": "stdout",
     "output_type": "stream",
     "text": [
      "Test accuracy: 0.6805889423076923\n"
     ]
    }
   ],
   "source": [
    "train(model, epochs, dropout_probs, batch_size, data, 'saver')"
   ]
  },
  {
   "cell_type": "markdown",
   "metadata": {},
   "source": [
    "### Step 6 Create training set vectors | Define Inference function"
   ]
  },
  {
   "cell_type": "markdown",
   "metadata": {},
   "source": [
    "![](helper_images/conv_model_vectors.png)"
   ]
  },
  {
   "cell_type": "markdown",
   "metadata": {},
   "source": [
    "![](helper_images/hamming.png)"
   ]
  },
  {
   "cell_type": "code",
   "execution_count": 2,
   "metadata": {},
   "outputs": [],
   "source": [
    "def create_training_set_vectors(model, \n",
    "                                X_train, \n",
    "                                y_train,\n",
    "                                batch_size,\n",
    "                                checkpoint_path, \n",
    "                                image_size, \n",
    "                                distance='hamming'):\n",
    "    \n",
    "    '''\n",
    "    Creates training set vectors and saves them in a pickle file.\n",
    "    \n",
    "    :param model: CNN model\n",
    "    :param X_train: numpy array, loaded training set images\n",
    "    :param y_train: numpy array,loaded training set labels\n",
    "    :param batch_size: integer, number of samples to put trhough the model at once\n",
    "    :param checkpoint_path: string, path to the model checkpoint\n",
    "    :param image_size: tuple, single image (height, width)\n",
    "    :param distance: string, type of distance to be used, \n",
    "                             this parameter is used to choose a way how to prepare and save training set vectors\n",
    "    '''\n",
    "            \n",
    "    #Define session\n",
    "    session = tf.Session()\n",
    "    session.run(tf.global_variables_initializer())\n",
    "    \n",
    "    #restore session\n",
    "    saver = tf.train.Saver()\n",
    "    saver.restore(session, checkpoint_path)\n",
    "    \n",
    "    dense_2_features = []\n",
    "    dense_4_features = []\n",
    "\n",
    "    #iterate through training set\n",
    "    for ii in tqdm(range(len(X_train) // batch_size)):\n",
    "        start_id = ii*batch_size\n",
    "        end_id = start_id + batch_size\n",
    "\n",
    "        X_batch = X_train[start_id:end_id]\n",
    "\n",
    "        feed_dict = {model.inputs:X_batch, \n",
    "                     model.dropout_rate:0.0}\n",
    "        \n",
    "        dense_2, dense_4 = session.run([model.dense_2_features, model.dense_4_features], feed_dict=feed_dict)\n",
    "        \n",
    "        dense_2_features.append(dense_2)\n",
    "        dense_4_features.append(dense_4)\n",
    "        \n",
    "    dense_2_features = np.vstack(dense_2_features)\n",
    "    dense_4_features = np.vstack(dense_4_features)\n",
    "    #hamming distance - vectors processing\n",
    "    if distance == 'hamming':\n",
    "        dense_2_features = np.where(dense_2_features < 0.5, 0, 1) #binarize vectors\n",
    "        dense_4_features = np.where(dense_4_features < 0.5, 0, 1)\n",
    "        \n",
    "        training_vectors = np.hstack((dense_2_features, dense_4_features))\n",
    "        with open('hamming_train_vectors.pickle', 'wb') as f:\n",
    "            pickle.dump(training_vectors, f)\n",
    "            \n",
    "    #cosine distance - vectors processing\n",
    "    elif distance == 'cosine':\n",
    "        training_vectors = np.hstack((dense_2_features, dense_4_features))\n",
    "        training_vectors = np.hstack((training_vectors, color_features[:len(training_vectors)]))\n",
    "        with open('cosine_train_vectors.pickle', 'wb') as f:\n",
    "            pickle.dump(training_vectors, f)"
   ]
  },
  {
   "cell_type": "code",
   "execution_count": 6,
   "metadata": {},
   "outputs": [],
   "source": [
    "def create_training_set_vectors_with_colors(model, \n",
    "                                            X_train, \n",
    "                                            y_train,\n",
    "                                            batch_size,\n",
    "                                            checkpoint_path, \n",
    "                                            image_size, \n",
    "                                            distance='hamming'):\n",
    "    \n",
    "    '''\n",
    "    Creates training set vectors and saves them in a pickle file.\n",
    "    \n",
    "    :param model: CNN model\n",
    "    :param X_train: numpy array, loaded training set images\n",
    "    :param y_train: numpy array,loaded training set labels\n",
    "    :param batch_size: integer, number of samples to put trhough the model at once\n",
    "    :param checkpoint_path: string, path to the model checkpoint\n",
    "    :param image_size: tuple, single image (height, width)\n",
    "    :param distance: string, type of distance to be used, \n",
    "                             this parameter is used to choose a way how to prepare and save training set vectors\n",
    "    '''\n",
    "            \n",
    "    #Define session\n",
    "    session = tf.Session()\n",
    "    session.run(tf.global_variables_initializer())\n",
    "    \n",
    "    #restore session\n",
    "    saver = tf.train.Saver()\n",
    "    saver.restore(session, checkpoint_path)\n",
    "    \n",
    "    dense_2_features = []\n",
    "    dense_4_features = []\n",
    "    \n",
    "    ##########################################################################\n",
    "    ### Calculate color feature vectors for each image in the training set ###\n",
    "    color_features = []\n",
    "    for img in X_train:\n",
    "        channels = cv2.split(img)\n",
    "        features = []\n",
    "        for chan in channels:\n",
    "            hist = cv2.calcHist([chan], [0], None, [256], [0, 256])\n",
    "            features.append(hist)\n",
    "            \n",
    "        color_features.append(np.vstack(features).squeeze())\n",
    "    ##########################################################################\n",
    "    \n",
    "    #iterate through training set\n",
    "    for ii in tqdm(range(len(X_train) // batch_size)):\n",
    "        start_id = ii*batch_size\n",
    "        end_id = start_id + batch_size\n",
    "\n",
    "        X_batch = X_train[start_id:end_id]\n",
    "\n",
    "        feed_dict = {model.inputs:X_batch, \n",
    "                     model.dropout_rate:0.0}\n",
    "        \n",
    "        dense_2, dense_4 = session.run([model.dense_2_features, model.dense_4_features], feed_dict=feed_dict)\n",
    "        \n",
    "        dense_2_features.append(dense_2)\n",
    "        dense_4_features.append(dense_4)\n",
    "        \n",
    "    dense_2_features = np.vstack(dense_2_features)\n",
    "    dense_4_features = np.vstack(dense_4_features)\n",
    "    #hamming distance - vectors processing\n",
    "    if distance == 'hamming':\n",
    "        dense_2_features = np.where(dense_2_features < 0.5, 0, 1) #binarize vectors\n",
    "        dense_4_features = np.where(dense_4_features < 0.5, 0, 1)\n",
    "        \n",
    "        training_vectors = np.hstack((dense_2_features, dense_4_features))\n",
    "        with open('hamming_train_vectors.pickle', 'wb') as f:\n",
    "            pickle.dump(training_vectors, f)\n",
    "            \n",
    "    #cosine distance - vectors processing\n",
    "    elif distance == 'cosine':\n",
    "        training_vectors = np.hstack((dense_2_features, dense_4_features))\n",
    "        training_vectors = np.hstack((training_vectors, color_features[:len(training_vectors)]))\n",
    "        with open('cosine_train_vectors.pickle', 'wb') as f:\n",
    "            pickle.dump(training_vectors, f)\n",
    "            \n",
    "    #########################################################################\n",
    "    ### Save training set color feature vectors to a separate pickle file ###\n",
    "    with open('color_vectors.pickle', 'wb') as f:\n",
    "        pickle.dump(color_features[:len(training_vectors)], f)\n",
    "    #########################################################################"
   ]
  },
  {
   "cell_type": "code",
   "execution_count": 46,
   "metadata": {},
   "outputs": [],
   "source": [
    "model = ImageSearchModel(learning_rate=learning_rate, image_size=image_size)"
   ]
  },
  {
   "cell_type": "code",
   "execution_count": 80,
   "metadata": {
    "scrolled": true
   },
   "outputs": [
    {
     "name": "stdout",
     "output_type": "stream",
     "text": [
      "INFO:tensorflow:Restoring parameters from saver/model_epoch_5.ckpt\n"
     ]
    },
    {
     "name": "stderr",
     "output_type": "stream",
     "text": [
      "\n",
      "  0%|                                                                                          | 0/390 [00:00<?, ?it/s]\n",
      "  0%|▏                                                                                 | 1/390 [00:00<02:02,  3.18it/s]\n",
      "  1%|▍                                                                                 | 2/390 [00:00<01:56,  3.33it/s]\n",
      "  1%|▋                                                                                 | 3/390 [00:00<01:53,  3.41it/s]\n",
      "  1%|▊                                                                                 | 4/390 [00:01<01:52,  3.42it/s]\n",
      "  1%|█                                                                                 | 5/390 [00:01<01:51,  3.45it/s]\n",
      "  2%|█▎                                                                                | 6/390 [00:01<01:48,  3.53it/s]\n",
      "  2%|█▍                                                                                | 7/390 [00:01<01:46,  3.60it/s]\n",
      "  2%|█▋                                                                                | 8/390 [00:02<01:45,  3.63it/s]\n",
      "  2%|█▉                                                                                | 9/390 [00:02<01:43,  3.66it/s]\n",
      "  3%|██                                                                               | 10/390 [00:02<01:45,  3.61it/s]\n",
      "  3%|██▎                                                                              | 11/390 [00:03<01:44,  3.63it/s]\n",
      "  3%|██▍                                                                              | 12/390 [00:03<01:46,  3.56it/s]\n",
      "  3%|██▋                                                                              | 13/390 [00:03<01:43,  3.63it/s]\n",
      "  4%|██▉                                                                              | 14/390 [00:03<01:41,  3.70it/s]\n",
      "  4%|███                                                                              | 15/390 [00:04<01:40,  3.75it/s]\n",
      "  4%|███▎                                                                             | 16/390 [00:04<01:38,  3.78it/s]\n",
      "  4%|███▌                                                                             | 17/390 [00:04<01:38,  3.81it/s]\n",
      "  5%|███▋                                                                             | 18/390 [00:04<01:37,  3.82it/s]\n",
      "  5%|███▉                                                                             | 19/390 [00:05<01:36,  3.83it/s]\n",
      "  5%|████▏                                                                            | 20/390 [00:05<01:36,  3.83it/s]\n",
      "  5%|████▎                                                                            | 21/390 [00:05<01:36,  3.84it/s]\n",
      "  6%|████▌                                                                            | 22/390 [00:05<01:36,  3.82it/s]\n",
      "  6%|████▊                                                                            | 23/390 [00:06<01:36,  3.82it/s]\n",
      "  6%|████▉                                                                            | 24/390 [00:06<01:35,  3.83it/s]\n",
      "  6%|█████▏                                                                           | 25/390 [00:06<01:35,  3.83it/s]\n",
      "  7%|█████▍                                                                           | 26/390 [00:06<01:34,  3.84it/s]\n",
      "  7%|█████▌                                                                           | 27/390 [00:07<01:35,  3.78it/s]\n",
      "  7%|█████▊                                                                           | 28/390 [00:07<01:36,  3.74it/s]\n",
      "  7%|██████                                                                           | 29/390 [00:07<01:35,  3.77it/s]\n",
      "  8%|██████▏                                                                          | 30/390 [00:08<01:38,  3.65it/s]\n",
      "  8%|██████▍                                                                          | 31/390 [00:08<01:37,  3.67it/s]\n",
      "  8%|██████▋                                                                          | 32/390 [00:08<01:37,  3.67it/s]\n",
      "  8%|██████▊                                                                          | 33/390 [00:08<01:37,  3.66it/s]\n",
      "  9%|███████                                                                          | 34/390 [00:09<01:39,  3.59it/s]\n",
      "  9%|███████▎                                                                         | 35/390 [00:09<01:37,  3.66it/s]\n",
      "  9%|███████▍                                                                         | 36/390 [00:09<01:35,  3.70it/s]\n",
      "  9%|███████▋                                                                         | 37/390 [00:09<01:34,  3.75it/s]\n",
      " 10%|███████▉                                                                         | 38/390 [00:10<01:33,  3.77it/s]\n",
      " 10%|████████                                                                         | 39/390 [00:10<01:32,  3.79it/s]\n",
      " 10%|████████▎                                                                        | 40/390 [00:10<01:32,  3.80it/s]\n",
      " 11%|████████▌                                                                        | 41/390 [00:11<01:31,  3.81it/s]\n",
      " 11%|████████▋                                                                        | 42/390 [00:11<01:31,  3.79it/s]\n",
      " 11%|████████▉                                                                        | 43/390 [00:11<01:31,  3.80it/s]\n",
      " 11%|█████████▏                                                                       | 44/390 [00:11<01:33,  3.70it/s]\n",
      " 12%|█████████▎                                                                       | 45/390 [00:12<01:32,  3.72it/s]\n",
      " 12%|█████████▌                                                                       | 46/390 [00:12<01:31,  3.75it/s]\n",
      " 12%|█████████▊                                                                       | 47/390 [00:12<01:30,  3.78it/s]\n",
      " 12%|█████████▉                                                                       | 48/390 [00:12<01:30,  3.77it/s]\n",
      " 13%|██████████▏                                                                      | 49/390 [00:13<01:32,  3.70it/s]\n",
      " 13%|██████████▍                                                                      | 50/390 [00:13<01:30,  3.74it/s]\n",
      " 13%|██████████▌                                                                      | 51/390 [00:13<01:30,  3.76it/s]\n",
      " 13%|██████████▊                                                                      | 52/390 [00:13<01:29,  3.78it/s]\n",
      " 14%|███████████                                                                      | 53/390 [00:14<01:29,  3.78it/s]\n",
      " 14%|███████████▏                                                                     | 54/390 [00:14<01:30,  3.70it/s]\n",
      " 14%|███████████▍                                                                     | 55/390 [00:14<01:30,  3.70it/s]\n",
      " 14%|███████████▋                                                                     | 56/390 [00:15<01:34,  3.55it/s]\n",
      " 15%|███████████▊                                                                     | 57/390 [00:15<01:32,  3.59it/s]\n",
      " 15%|████████████                                                                     | 58/390 [00:15<01:32,  3.61it/s]\n",
      " 15%|████████████▎                                                                    | 59/390 [00:15<01:31,  3.61it/s]\n",
      " 15%|████████████▍                                                                    | 60/390 [00:16<01:32,  3.57it/s]\n",
      " 16%|████████████▋                                                                    | 61/390 [00:16<01:30,  3.64it/s]\n",
      " 16%|████████████▉                                                                    | 62/390 [00:16<01:29,  3.68it/s]\n",
      " 16%|█████████████                                                                    | 63/390 [00:16<01:27,  3.73it/s]\n",
      " 16%|█████████████▎                                                                   | 64/390 [00:17<01:26,  3.75it/s]\n",
      " 17%|█████████████▌                                                                   | 65/390 [00:17<01:27,  3.71it/s]\n",
      " 17%|█████████████▋                                                                   | 66/390 [00:17<01:28,  3.67it/s]\n",
      " 17%|█████████████▉                                                                   | 67/390 [00:18<01:29,  3.61it/s]\n",
      " 17%|██████████████                                                                   | 68/390 [00:18<01:27,  3.67it/s]\n",
      " 18%|██████████████▎                                                                  | 69/390 [00:18<01:26,  3.70it/s]\n",
      " 18%|██████████████▌                                                                  | 70/390 [00:18<01:26,  3.70it/s]\n",
      " 18%|██████████████▋                                                                  | 71/390 [00:19<01:26,  3.67it/s]\n",
      " 18%|██████████████▉                                                                  | 72/390 [00:19<01:27,  3.63it/s]\n",
      " 19%|███████████████▏                                                                 | 73/390 [00:19<01:26,  3.65it/s]\n",
      " 19%|███████████████▎                                                                 | 74/390 [00:19<01:25,  3.71it/s]\n",
      " 19%|███████████████▌                                                                 | 75/390 [00:20<01:24,  3.74it/s]\n",
      " 19%|███████████████▊                                                                 | 76/390 [00:20<01:25,  3.68it/s]\n",
      " 20%|███████████████▉                                                                 | 77/390 [00:20<01:25,  3.65it/s]\n",
      " 20%|████████████████▏                                                                | 78/390 [00:21<01:25,  3.65it/s]\n",
      " 20%|████████████████▍                                                                | 79/390 [00:21<01:24,  3.68it/s]\n",
      " 21%|████████████████▌                                                                | 80/390 [00:21<01:24,  3.67it/s]\n",
      " 21%|████████████████▊                                                                | 81/390 [00:21<01:27,  3.54it/s]\n",
      " 21%|█████████████████                                                                | 82/390 [00:22<01:25,  3.61it/s]\n",
      " 21%|█████████████████▏                                                               | 83/390 [00:22<01:25,  3.60it/s]\n",
      " 22%|█████████████████▍                                                               | 84/390 [00:22<01:25,  3.58it/s]\n",
      " 22%|█████████████████▋                                                               | 85/390 [00:23<01:23,  3.65it/s]\n",
      " 22%|█████████████████▊                                                               | 86/390 [00:23<01:25,  3.55it/s]\n",
      " 22%|██████████████████                                                               | 87/390 [00:23<01:24,  3.59it/s]\n",
      " 23%|██████████████████▎                                                              | 88/390 [00:23<01:23,  3.64it/s]\n",
      " 23%|██████████████████▍                                                              | 89/390 [00:24<01:22,  3.64it/s]\n",
      " 23%|██████████████████▋                                                              | 90/390 [00:24<01:21,  3.66it/s]\n",
      " 23%|██████████████████▉                                                              | 91/390 [00:24<01:21,  3.65it/s]\n",
      " 24%|███████████████████                                                              | 92/390 [00:24<01:20,  3.70it/s]\n",
      " 24%|███████████████████▎                                                             | 93/390 [00:25<01:19,  3.73it/s]\n",
      " 24%|███████████████████▌                                                             | 94/390 [00:25<01:19,  3.75it/s]\n",
      " 24%|███████████████████▋                                                             | 95/390 [00:25<01:18,  3.77it/s]\n",
      " 25%|███████████████████▉                                                             | 96/390 [00:25<01:17,  3.82it/s]\n",
      " 25%|████████████████████▏                                                            | 97/390 [00:26<01:16,  3.83it/s]\n",
      " 25%|████████████████████▎                                                            | 98/390 [00:26<01:15,  3.85it/s]\n",
      " 25%|████████████████████▌                                                            | 99/390 [00:26<01:15,  3.86it/s]\n",
      " 26%|████████████████████▌                                                           | 100/390 [00:27<01:14,  3.87it/s]\n",
      " 26%|████████████████████▋                                                           | 101/390 [00:27<01:14,  3.88it/s]\n",
      " 26%|████████████████████▉                                                           | 102/390 [00:27<01:14,  3.87it/s]\n",
      " 26%|█████████████████████▏                                                          | 103/390 [00:27<01:14,  3.85it/s]\n",
      " 27%|█████████████████████▎                                                          | 104/390 [00:28<01:15,  3.78it/s]\n",
      " 27%|█████████████████████▌                                                          | 105/390 [00:28<01:15,  3.78it/s]\n",
      " 27%|█████████████████████▋                                                          | 106/390 [00:28<01:15,  3.79it/s]\n",
      " 27%|█████████████████████▉                                                          | 107/390 [00:28<01:16,  3.72it/s]\n",
      " 28%|██████████████████████▏                                                         | 108/390 [00:29<01:14,  3.77it/s]\n",
      " 28%|██████████████████████▎                                                         | 109/390 [00:29<01:14,  3.78it/s]\n",
      " 28%|██████████████████████▌                                                         | 110/390 [00:29<01:14,  3.78it/s]\n",
      " 28%|██████████████████████▊                                                         | 111/390 [00:29<01:13,  3.79it/s]\n",
      " 29%|██████████████████████▉                                                         | 112/390 [00:30<01:15,  3.67it/s]\n",
      " 29%|███████████████████████▏                                                        | 113/390 [00:30<01:15,  3.68it/s]\n",
      " 29%|███████████████████████▍                                                        | 114/390 [00:30<01:14,  3.69it/s]\n",
      " 29%|███████████████████████▌                                                        | 115/390 [00:31<01:15,  3.66it/s]\n",
      " 30%|███████████████████████▊                                                        | 116/390 [00:31<01:14,  3.67it/s]\n",
      " 30%|████████████████████████                                                        | 117/390 [00:31<01:13,  3.70it/s]\n",
      " 30%|████████████████████████▏                                                       | 118/390 [00:31<01:12,  3.74it/s]\n",
      " 31%|████████████████████████▍                                                       | 119/390 [00:32<01:11,  3.77it/s]\n",
      " 31%|████████████████████████▌                                                       | 120/390 [00:32<01:11,  3.76it/s]\n",
      " 31%|████████████████████████▊                                                       | 121/390 [00:32<01:10,  3.79it/s]\n",
      " 31%|█████████████████████████                                                       | 122/390 [00:32<01:10,  3.79it/s]\n",
      " 32%|█████████████████████████▏                                                      | 123/390 [00:33<01:09,  3.82it/s]\n",
      " 32%|█████████████████████████▍                                                      | 124/390 [00:33<01:09,  3.82it/s]\n",
      " 32%|█████████████████████████▋                                                      | 125/390 [00:33<01:09,  3.83it/s]\n",
      " 32%|█████████████████████████▊                                                      | 126/390 [00:33<01:08,  3.83it/s]\n",
      " 33%|██████████████████████████                                                      | 127/390 [00:34<01:08,  3.84it/s]\n",
      " 33%|██████████████████████████▎                                                     | 128/390 [00:34<01:08,  3.81it/s]\n",
      " 33%|██████████████████████████▍                                                     | 129/390 [00:34<01:09,  3.73it/s]\n",
      " 33%|██████████████████████████▋                                                     | 130/390 [00:35<01:10,  3.68it/s]\n",
      " 34%|██████████████████████████▊                                                     | 131/390 [00:35<01:09,  3.73it/s]\n",
      " 34%|███████████████████████████                                                     | 132/390 [00:35<01:10,  3.67it/s]\n",
      " 34%|███████████████████████████▎                                                    | 133/390 [00:35<01:09,  3.71it/s]\n",
      " 34%|███████████████████████████▍                                                    | 134/390 [00:36<01:08,  3.73it/s]\n",
      " 35%|███████████████████████████▋                                                    | 135/390 [00:36<01:08,  3.73it/s]\n"
     ]
    },
    {
     "name": "stderr",
     "output_type": "stream",
     "text": [
      " 35%|███████████████████████████▉                                                    | 136/390 [00:36<01:07,  3.75it/s]\n",
      " 35%|████████████████████████████                                                    | 137/390 [00:36<01:06,  3.78it/s]\n",
      " 35%|████████████████████████████▎                                                   | 138/390 [00:37<01:06,  3.78it/s]\n",
      " 36%|████████████████████████████▌                                                   | 139/390 [00:37<01:06,  3.80it/s]\n",
      " 36%|████████████████████████████▋                                                   | 140/390 [00:37<01:05,  3.81it/s]\n",
      " 36%|████████████████████████████▉                                                   | 141/390 [00:37<01:05,  3.83it/s]\n",
      " 36%|█████████████████████████████▏                                                  | 142/390 [00:38<01:04,  3.84it/s]\n",
      " 37%|█████████████████████████████▎                                                  | 143/390 [00:38<01:04,  3.85it/s]\n",
      " 37%|█████████████████████████████▌                                                  | 144/390 [00:38<01:03,  3.85it/s]\n",
      " 37%|█████████████████████████████▋                                                  | 145/390 [00:38<01:03,  3.84it/s]\n",
      " 37%|█████████████████████████████▉                                                  | 146/390 [00:39<01:03,  3.84it/s]\n",
      " 38%|██████████████████████████████▏                                                 | 147/390 [00:39<01:03,  3.84it/s]\n",
      " 38%|██████████████████████████████▎                                                 | 148/390 [00:39<01:03,  3.82it/s]\n",
      " 38%|██████████████████████████████▌                                                 | 149/390 [00:39<01:03,  3.82it/s]\n",
      " 38%|██████████████████████████████▊                                                 | 150/390 [00:40<01:03,  3.81it/s]\n",
      " 39%|██████████████████████████████▉                                                 | 151/390 [00:40<01:02,  3.82it/s]\n",
      " 39%|███████████████████████████████▏                                                | 152/390 [00:40<01:02,  3.82it/s]\n",
      " 39%|███████████████████████████████▍                                                | 153/390 [00:41<01:01,  3.83it/s]\n",
      " 39%|███████████████████████████████▌                                                | 154/390 [00:41<01:01,  3.83it/s]\n",
      " 40%|███████████████████████████████▊                                                | 155/390 [00:41<01:01,  3.83it/s]\n",
      " 40%|████████████████████████████████                                                | 156/390 [00:41<01:01,  3.82it/s]\n",
      " 40%|████████████████████████████████▏                                               | 157/390 [00:42<01:01,  3.82it/s]\n",
      " 41%|████████████████████████████████▍                                               | 158/390 [00:42<01:01,  3.80it/s]\n",
      " 41%|████████████████████████████████▌                                               | 159/390 [00:42<01:00,  3.80it/s]\n",
      " 41%|████████████████████████████████▊                                               | 160/390 [00:42<01:01,  3.74it/s]\n",
      " 41%|█████████████████████████████████                                               | 161/390 [00:43<01:01,  3.74it/s]\n",
      " 42%|█████████████████████████████████▏                                              | 162/390 [00:43<01:01,  3.71it/s]\n",
      " 42%|█████████████████████████████████▍                                              | 163/390 [00:43<01:00,  3.73it/s]\n",
      " 42%|█████████████████████████████████▋                                              | 164/390 [00:43<01:00,  3.74it/s]\n",
      " 42%|█████████████████████████████████▊                                              | 165/390 [00:44<01:01,  3.68it/s]\n",
      " 43%|██████████████████████████████████                                              | 166/390 [00:44<01:01,  3.66it/s]\n",
      " 43%|██████████████████████████████████▎                                             | 167/390 [00:44<01:00,  3.70it/s]\n",
      " 43%|██████████████████████████████████▍                                             | 168/390 [00:45<00:59,  3.71it/s]\n",
      " 43%|██████████████████████████████████▋                                             | 169/390 [00:45<00:59,  3.71it/s]\n",
      " 44%|██████████████████████████████████▊                                             | 170/390 [00:45<00:59,  3.73it/s]\n",
      " 44%|███████████████████████████████████                                             | 171/390 [00:45<00:58,  3.75it/s]\n",
      " 44%|███████████████████████████████████▎                                            | 172/390 [00:46<00:57,  3.77it/s]\n",
      " 44%|███████████████████████████████████▍                                            | 173/390 [00:46<00:57,  3.76it/s]\n",
      " 45%|███████████████████████████████████▋                                            | 174/390 [00:46<00:57,  3.74it/s]\n",
      " 45%|███████████████████████████████████▉                                            | 175/390 [00:46<00:57,  3.75it/s]\n",
      " 45%|████████████████████████████████████                                            | 176/390 [00:47<00:56,  3.77it/s]\n",
      " 45%|████████████████████████████████████▎                                           | 177/390 [00:47<00:56,  3.78it/s]\n",
      " 46%|████████████████████████████████████▌                                           | 178/390 [00:47<00:56,  3.77it/s]\n",
      " 46%|████████████████████████████████████▋                                           | 179/390 [00:47<00:56,  3.74it/s]\n",
      " 46%|████████████████████████████████████▉                                           | 180/390 [00:48<00:55,  3.75it/s]\n",
      " 46%|█████████████████████████████████████▏                                          | 181/390 [00:48<00:55,  3.79it/s]\n",
      " 47%|█████████████████████████████████████▎                                          | 182/390 [00:48<00:54,  3.80it/s]\n",
      " 47%|█████████████████████████████████████▌                                          | 183/390 [00:49<00:54,  3.77it/s]\n",
      " 47%|█████████████████████████████████████▋                                          | 184/390 [00:49<00:54,  3.79it/s]\n",
      " 47%|█████████████████████████████████████▉                                          | 185/390 [00:49<00:54,  3.79it/s]\n",
      " 48%|██████████████████████████████████████▏                                         | 186/390 [00:49<00:54,  3.77it/s]\n",
      " 48%|██████████████████████████████████████▎                                         | 187/390 [00:50<00:53,  3.77it/s]\n",
      " 48%|██████████████████████████████████████▌                                         | 188/390 [00:50<00:53,  3.76it/s]\n",
      " 48%|██████████████████████████████████████▊                                         | 189/390 [00:50<00:53,  3.73it/s]\n",
      " 49%|██████████████████████████████████████▉                                         | 190/390 [00:51<01:01,  3.23it/s]\n",
      " 49%|███████████████████████████████████████▏                                        | 191/390 [00:51<00:58,  3.38it/s]\n",
      " 49%|███████████████████████████████████████▍                                        | 192/390 [00:51<00:56,  3.48it/s]\n",
      " 49%|███████████████████████████████████████▌                                        | 193/390 [00:51<00:55,  3.56it/s]\n",
      " 50%|███████████████████████████████████████▊                                        | 194/390 [00:52<00:54,  3.62it/s]\n",
      " 50%|████████████████████████████████████████                                        | 195/390 [00:52<00:53,  3.64it/s]\n",
      " 50%|████████████████████████████████████████▏                                       | 196/390 [00:52<00:52,  3.67it/s]\n",
      " 51%|████████████████████████████████████████▍                                       | 197/390 [00:52<00:52,  3.71it/s]\n",
      " 51%|████████████████████████████████████████▌                                       | 198/390 [00:53<00:51,  3.71it/s]\n",
      " 51%|████████████████████████████████████████▊                                       | 199/390 [00:53<00:51,  3.71it/s]\n",
      " 51%|█████████████████████████████████████████                                       | 200/390 [00:53<00:50,  3.73it/s]\n",
      " 52%|█████████████████████████████████████████▏                                      | 201/390 [00:53<00:50,  3.75it/s]\n",
      " 52%|█████████████████████████████████████████▍                                      | 202/390 [00:54<00:50,  3.75it/s]\n",
      " 52%|█████████████████████████████████████████▋                                      | 203/390 [00:54<00:50,  3.72it/s]\n",
      " 52%|█████████████████████████████████████████▊                                      | 204/390 [00:54<00:49,  3.73it/s]\n",
      " 53%|██████████████████████████████████████████                                      | 205/390 [00:55<00:50,  3.68it/s]\n",
      " 53%|██████████████████████████████████████████▎                                     | 206/390 [00:55<00:50,  3.63it/s]\n",
      " 53%|██████████████████████████████████████████▍                                     | 207/390 [00:55<00:49,  3.71it/s]\n",
      " 53%|██████████████████████████████████████████▋                                     | 208/390 [00:55<00:49,  3.65it/s]\n",
      " 54%|██████████████████████████████████████████▊                                     | 209/390 [00:56<00:50,  3.60it/s]\n",
      " 54%|███████████████████████████████████████████                                     | 210/390 [00:56<00:49,  3.64it/s]\n",
      " 54%|███████████████████████████████████████████▎                                    | 211/390 [00:56<00:48,  3.69it/s]\n",
      " 54%|███████████████████████████████████████████▍                                    | 212/390 [00:56<00:48,  3.69it/s]\n",
      " 55%|███████████████████████████████████████████▋                                    | 213/390 [00:57<00:48,  3.68it/s]\n",
      " 55%|███████████████████████████████████████████▉                                    | 214/390 [00:57<00:48,  3.66it/s]\n",
      " 55%|████████████████████████████████████████████                                    | 215/390 [00:57<00:47,  3.70it/s]\n",
      " 55%|████████████████████████████████████████████▎                                   | 216/390 [00:58<00:46,  3.74it/s]\n",
      " 56%|████████████████████████████████████████████▌                                   | 217/390 [00:58<00:45,  3.78it/s]\n",
      " 56%|████████████████████████████████████████████▋                                   | 218/390 [00:58<00:45,  3.80it/s]\n",
      " 56%|████████████████████████████████████████████▉                                   | 219/390 [00:58<00:44,  3.83it/s]\n",
      " 56%|█████████████████████████████████████████████▏                                  | 220/390 [00:59<00:44,  3.84it/s]\n",
      " 57%|█████████████████████████████████████████████▎                                  | 221/390 [00:59<00:43,  3.85it/s]\n",
      " 57%|█████████████████████████████████████████████▌                                  | 222/390 [00:59<00:43,  3.85it/s]\n",
      " 57%|█████████████████████████████████████████████▋                                  | 223/390 [00:59<00:43,  3.86it/s]\n",
      " 57%|█████████████████████████████████████████████▉                                  | 224/390 [01:00<00:43,  3.82it/s]\n",
      " 58%|██████████████████████████████████████████████▏                                 | 225/390 [01:00<00:43,  3.79it/s]\n",
      " 58%|██████████████████████████████████████████████▎                                 | 226/390 [01:00<00:43,  3.79it/s]\n",
      " 58%|██████████████████████████████████████████████▌                                 | 227/390 [01:00<00:42,  3.80it/s]\n",
      " 58%|██████████████████████████████████████████████▊                                 | 228/390 [01:01<00:42,  3.81it/s]\n",
      " 59%|██████████████████████████████████████████████▉                                 | 229/390 [01:01<00:42,  3.82it/s]\n",
      " 59%|███████████████████████████████████████████████▏                                | 230/390 [01:01<00:41,  3.83it/s]\n",
      " 59%|███████████████████████████████████████████████▍                                | 231/390 [01:01<00:41,  3.83it/s]\n",
      " 59%|███████████████████████████████████████████████▌                                | 232/390 [01:02<00:41,  3.83it/s]\n",
      " 60%|███████████████████████████████████████████████▊                                | 233/390 [01:02<00:40,  3.85it/s]\n",
      " 60%|████████████████████████████████████████████████                                | 234/390 [01:02<00:40,  3.84it/s]\n",
      " 60%|████████████████████████████████████████████████▏                               | 235/390 [01:03<00:41,  3.72it/s]\n",
      " 61%|████████████████████████████████████████████████▍                               | 236/390 [01:03<00:41,  3.75it/s]\n",
      " 61%|████████████████████████████████████████████████▌                               | 237/390 [01:03<00:40,  3.78it/s]\n",
      " 61%|████████████████████████████████████████████████▊                               | 238/390 [01:03<00:40,  3.79it/s]\n",
      " 61%|█████████████████████████████████████████████████                               | 239/390 [01:04<00:39,  3.81it/s]\n",
      " 62%|█████████████████████████████████████████████████▏                              | 240/390 [01:04<00:39,  3.80it/s]\n",
      " 62%|█████████████████████████████████████████████████▍                              | 241/390 [01:04<00:39,  3.82it/s]\n",
      " 62%|█████████████████████████████████████████████████▋                              | 242/390 [01:04<00:38,  3.82it/s]\n",
      " 62%|█████████████████████████████████████████████████▊                              | 243/390 [01:05<00:38,  3.83it/s]\n",
      " 63%|██████████████████████████████████████████████████                              | 244/390 [01:05<00:38,  3.82it/s]\n",
      " 63%|██████████████████████████████████████████████████▎                             | 245/390 [01:05<00:37,  3.82it/s]\n",
      " 63%|██████████████████████████████████████████████████▍                             | 246/390 [01:05<00:37,  3.82it/s]\n",
      " 63%|██████████████████████████████████████████████████▋                             | 247/390 [01:06<00:37,  3.83it/s]\n",
      " 64%|██████████████████████████████████████████████████▊                             | 248/390 [01:06<00:37,  3.82it/s]\n",
      " 64%|███████████████████████████████████████████████████                             | 249/390 [01:06<00:36,  3.83it/s]\n",
      " 64%|███████████████████████████████████████████████████▎                            | 250/390 [01:06<00:36,  3.82it/s]\n",
      " 64%|███████████████████████████████████████████████████▍                            | 251/390 [01:07<00:36,  3.83it/s]\n",
      " 65%|███████████████████████████████████████████████████▋                            | 252/390 [01:07<00:36,  3.82it/s]\n",
      " 65%|███████████████████████████████████████████████████▉                            | 253/390 [01:07<00:35,  3.82it/s]\n",
      " 65%|████████████████████████████████████████████████████                            | 254/390 [01:07<00:35,  3.81it/s]\n",
      " 65%|████████████████████████████████████████████████████▎                           | 255/390 [01:08<00:35,  3.81it/s]\n",
      " 66%|████████████████████████████████████████████████████▌                           | 256/390 [01:08<00:35,  3.80it/s]\n",
      " 66%|████████████████████████████████████████████████████▋                           | 257/390 [01:08<00:35,  3.80it/s]\n",
      " 66%|████████████████████████████████████████████████████▉                           | 258/390 [01:09<00:34,  3.80it/s]\n",
      " 66%|█████████████████████████████████████████████████████▏                          | 259/390 [01:09<00:34,  3.81it/s]\n",
      " 67%|█████████████████████████████████████████████████████▎                          | 260/390 [01:09<00:34,  3.81it/s]\n",
      " 67%|█████████████████████████████████████████████████████▌                          | 261/390 [01:09<00:34,  3.79it/s]\n",
      " 67%|█████████████████████████████████████████████████████▋                          | 262/390 [01:10<00:33,  3.80it/s]\n",
      " 67%|█████████████████████████████████████████████████████▉                          | 263/390 [01:10<00:33,  3.80it/s]\n",
      " 68%|██████████████████████████████████████████████████████▏                         | 264/390 [01:10<00:33,  3.80it/s]\n",
      " 68%|██████████████████████████████████████████████████████▎                         | 265/390 [01:10<00:32,  3.80it/s]\n",
      " 68%|██████████████████████████████████████████████████████▌                         | 266/390 [01:11<00:32,  3.80it/s]\n",
      " 68%|██████████████████████████████████████████████████████▊                         | 267/390 [01:11<00:32,  3.80it/s]\n",
      " 69%|██████████████████████████████████████████████████████▉                         | 268/390 [01:11<00:32,  3.79it/s]\n",
      " 69%|███████████████████████████████████████████████████████▏                        | 269/390 [01:11<00:31,  3.80it/s]\n",
      " 69%|███████████████████████████████████████████████████████▍                        | 270/390 [01:12<00:31,  3.80it/s]\n",
      " 69%|███████████████████████████████████████████████████████▌                        | 271/390 [01:12<00:31,  3.81it/s]\n"
     ]
    },
    {
     "name": "stderr",
     "output_type": "stream",
     "text": [
      " 70%|███████████████████████████████████████████████████████▊                        | 272/390 [01:12<00:31,  3.79it/s]\n",
      " 70%|████████████████████████████████████████████████████████                        | 273/390 [01:12<00:30,  3.80it/s]\n",
      " 70%|████████████████████████████████████████████████████████▏                       | 274/390 [01:13<00:31,  3.70it/s]\n",
      " 71%|████████████████████████████████████████████████████████▍                       | 275/390 [01:13<00:31,  3.68it/s]\n",
      " 71%|████████████████████████████████████████████████████████▌                       | 276/390 [01:13<00:30,  3.69it/s]\n",
      " 71%|████████████████████████████████████████████████████████▊                       | 277/390 [01:14<00:30,  3.73it/s]\n",
      " 71%|█████████████████████████████████████████████████████████                       | 278/390 [01:14<00:30,  3.70it/s]\n",
      " 72%|█████████████████████████████████████████████████████████▏                      | 279/390 [01:14<00:29,  3.74it/s]\n",
      " 72%|█████████████████████████████████████████████████████████▍                      | 280/390 [01:14<00:29,  3.77it/s]\n",
      " 72%|█████████████████████████████████████████████████████████▋                      | 281/390 [01:15<00:28,  3.78it/s]\n",
      " 72%|█████████████████████████████████████████████████████████▊                      | 282/390 [01:15<00:28,  3.78it/s]\n",
      " 73%|██████████████████████████████████████████████████████████                      | 283/390 [01:15<00:28,  3.78it/s]\n",
      " 73%|██████████████████████████████████████████████████████████▎                     | 284/390 [01:15<00:28,  3.78it/s]\n",
      " 73%|██████████████████████████████████████████████████████████▍                     | 285/390 [01:16<00:27,  3.79it/s]\n",
      " 73%|██████████████████████████████████████████████████████████▋                     | 286/390 [01:16<00:27,  3.80it/s]\n",
      " 74%|██████████████████████████████████████████████████████████▊                     | 287/390 [01:16<00:27,  3.80it/s]\n",
      " 74%|███████████████████████████████████████████████████████████                     | 288/390 [01:16<00:26,  3.79it/s]\n",
      " 74%|███████████████████████████████████████████████████████████▎                    | 289/390 [01:17<00:26,  3.78it/s]\n",
      " 74%|███████████████████████████████████████████████████████████▍                    | 290/390 [01:17<00:26,  3.79it/s]\n",
      " 75%|███████████████████████████████████████████████████████████▋                    | 291/390 [01:17<00:26,  3.80it/s]\n",
      " 75%|███████████████████████████████████████████████████████████▉                    | 292/390 [01:18<00:25,  3.77it/s]\n",
      " 75%|████████████████████████████████████████████████████████████                    | 293/390 [01:18<00:25,  3.78it/s]\n",
      " 75%|████████████████████████████████████████████████████████████▎                   | 294/390 [01:18<00:25,  3.77it/s]\n",
      " 76%|████████████████████████████████████████████████████████████▌                   | 295/390 [01:18<00:25,  3.79it/s]\n",
      " 76%|████████████████████████████████████████████████████████████▋                   | 296/390 [01:19<00:24,  3.81it/s]\n",
      " 76%|████████████████████████████████████████████████████████████▉                   | 297/390 [01:19<00:24,  3.80it/s]\n",
      " 76%|█████████████████████████████████████████████████████████████▏                  | 298/390 [01:19<00:24,  3.77it/s]\n",
      " 77%|█████████████████████████████████████████████████████████████▎                  | 299/390 [01:19<00:24,  3.71it/s]\n",
      " 77%|█████████████████████████████████████████████████████████████▌                  | 300/390 [01:20<00:24,  3.68it/s]\n",
      " 77%|█████████████████████████████████████████████████████████████▋                  | 301/390 [01:20<00:24,  3.67it/s]\n",
      " 77%|█████████████████████████████████████████████████████████████▉                  | 302/390 [01:20<00:24,  3.63it/s]\n",
      " 78%|██████████████████████████████████████████████████████████████▏                 | 303/390 [01:21<00:24,  3.59it/s]\n",
      " 78%|██████████████████████████████████████████████████████████████▎                 | 304/390 [01:21<00:24,  3.56it/s]\n",
      " 78%|██████████████████████████████████████████████████████████████▌                 | 305/390 [01:21<00:23,  3.63it/s]\n",
      " 78%|██████████████████████████████████████████████████████████████▊                 | 306/390 [01:21<00:23,  3.59it/s]\n",
      " 79%|██████████████████████████████████████████████████████████████▉                 | 307/390 [01:22<00:23,  3.60it/s]\n",
      " 79%|███████████████████████████████████████████████████████████████▏                | 308/390 [01:22<00:23,  3.54it/s]\n",
      " 79%|███████████████████████████████████████████████████████████████▍                | 309/390 [01:22<00:22,  3.55it/s]\n",
      " 79%|███████████████████████████████████████████████████████████████▌                | 310/390 [01:22<00:22,  3.57it/s]\n",
      " 80%|███████████████████████████████████████████████████████████████▊                | 311/390 [01:23<00:22,  3.57it/s]\n",
      " 80%|████████████████████████████████████████████████████████████████                | 312/390 [01:23<00:21,  3.58it/s]\n",
      " 80%|████████████████████████████████████████████████████████████████▏               | 313/390 [01:23<00:21,  3.58it/s]\n",
      " 81%|████████████████████████████████████████████████████████████████▍               | 314/390 [01:24<00:21,  3.61it/s]\n",
      " 81%|████████████████████████████████████████████████████████████████▌               | 315/390 [01:24<00:20,  3.65it/s]\n",
      " 81%|████████████████████████████████████████████████████████████████▊               | 316/390 [01:24<00:20,  3.67it/s]\n",
      " 81%|█████████████████████████████████████████████████████████████████               | 317/390 [01:24<00:19,  3.70it/s]\n",
      " 82%|█████████████████████████████████████████████████████████████████▏              | 318/390 [01:25<00:19,  3.63it/s]\n",
      " 82%|█████████████████████████████████████████████████████████████████▍              | 319/390 [01:25<00:19,  3.59it/s]\n",
      " 82%|█████████████████████████████████████████████████████████████████▋              | 320/390 [01:25<00:19,  3.58it/s]\n",
      " 82%|█████████████████████████████████████████████████████████████████▊              | 321/390 [01:26<00:19,  3.59it/s]\n",
      " 83%|██████████████████████████████████████████████████████████████████              | 322/390 [01:26<00:18,  3.63it/s]\n",
      " 83%|██████████████████████████████████████████████████████████████████▎             | 323/390 [01:26<00:18,  3.60it/s]\n",
      " 83%|██████████████████████████████████████████████████████████████████▍             | 324/390 [01:26<00:18,  3.54it/s]\n",
      " 83%|██████████████████████████████████████████████████████████████████▋             | 325/390 [01:27<00:18,  3.52it/s]\n",
      " 84%|██████████████████████████████████████████████████████████████████▊             | 326/390 [01:27<00:17,  3.59it/s]\n",
      " 84%|███████████████████████████████████████████████████████████████████             | 327/390 [01:27<00:17,  3.59it/s]\n",
      " 84%|███████████████████████████████████████████████████████████████████▎            | 328/390 [01:27<00:17,  3.63it/s]\n",
      " 84%|███████████████████████████████████████████████████████████████████▍            | 329/390 [01:28<00:16,  3.65it/s]\n",
      " 85%|███████████████████████████████████████████████████████████████████▋            | 330/390 [01:28<00:16,  3.68it/s]\n",
      " 85%|███████████████████████████████████████████████████████████████████▉            | 331/390 [01:28<00:15,  3.71it/s]\n",
      " 85%|████████████████████████████████████████████████████████████████████            | 332/390 [01:29<00:15,  3.72it/s]\n",
      " 85%|████████████████████████████████████████████████████████████████████▎           | 333/390 [01:29<00:15,  3.70it/s]\n",
      " 86%|████████████████████████████████████████████████████████████████████▌           | 334/390 [01:29<00:15,  3.73it/s]\n",
      " 86%|████████████████████████████████████████████████████████████████████▋           | 335/390 [01:29<00:14,  3.71it/s]\n",
      " 86%|████████████████████████████████████████████████████████████████████▉           | 336/390 [01:30<00:14,  3.72it/s]\n",
      " 86%|█████████████████████████████████████████████████████████████████████▏          | 337/390 [01:30<00:14,  3.75it/s]\n",
      " 87%|█████████████████████████████████████████████████████████████████████▎          | 338/390 [01:30<00:13,  3.74it/s]\n",
      " 87%|█████████████████████████████████████████████████████████████████████▌          | 339/390 [01:30<00:13,  3.77it/s]\n",
      " 87%|█████████████████████████████████████████████████████████████████████▋          | 340/390 [01:31<00:13,  3.79it/s]\n",
      " 87%|█████████████████████████████████████████████████████████████████████▉          | 341/390 [01:31<00:12,  3.78it/s]\n",
      " 88%|██████████████████████████████████████████████████████████████████████▏         | 342/390 [01:31<00:12,  3.75it/s]\n",
      " 88%|██████████████████████████████████████████████████████████████████████▎         | 343/390 [01:31<00:12,  3.76it/s]\n",
      " 88%|██████████████████████████████████████████████████████████████████████▌         | 344/390 [01:32<00:12,  3.73it/s]\n",
      " 88%|██████████████████████████████████████████████████████████████████████▊         | 345/390 [01:32<00:12,  3.74it/s]\n",
      " 89%|██████████████████████████████████████████████████████████████████████▉         | 346/390 [01:32<00:11,  3.74it/s]\n",
      " 89%|███████████████████████████████████████████████████████████████████████▏        | 347/390 [01:33<00:11,  3.75it/s]\n",
      " 89%|███████████████████████████████████████████████████████████████████████▍        | 348/390 [01:33<00:11,  3.77it/s]\n",
      " 89%|███████████████████████████████████████████████████████████████████████▌        | 349/390 [01:33<00:10,  3.77it/s]\n",
      " 90%|███████████████████████████████████████████████████████████████████████▊        | 350/390 [01:33<00:10,  3.77it/s]\n",
      " 90%|████████████████████████████████████████████████████████████████████████        | 351/390 [01:34<00:10,  3.77it/s]\n",
      " 90%|████████████████████████████████████████████████████████████████████████▏       | 352/390 [01:34<00:10,  3.79it/s]\n",
      " 91%|████████████████████████████████████████████████████████████████████████▍       | 353/390 [01:34<00:09,  3.78it/s]\n",
      " 91%|████████████████████████████████████████████████████████████████████████▌       | 354/390 [01:34<00:09,  3.81it/s]\n",
      " 91%|████████████████████████████████████████████████████████████████████████▊       | 355/390 [01:35<00:09,  3.80it/s]\n",
      " 91%|█████████████████████████████████████████████████████████████████████████       | 356/390 [01:35<00:08,  3.78it/s]\n",
      " 92%|█████████████████████████████████████████████████████████████████████████▏      | 357/390 [01:35<00:08,  3.77it/s]\n",
      " 92%|█████████████████████████████████████████████████████████████████████████▍      | 358/390 [01:35<00:08,  3.79it/s]\n",
      " 92%|█████████████████████████████████████████████████████████████████████████▋      | 359/390 [01:36<00:08,  3.79it/s]\n",
      " 92%|█████████████████████████████████████████████████████████████████████████▊      | 360/390 [01:36<00:07,  3.79it/s]\n",
      " 93%|██████████████████████████████████████████████████████████████████████████      | 361/390 [01:36<00:07,  3.79it/s]\n",
      " 93%|██████████████████████████████████████████████████████████████████████████▎     | 362/390 [01:37<00:07,  3.65it/s]\n",
      " 93%|██████████████████████████████████████████████████████████████████████████▍     | 363/390 [01:37<00:07,  3.69it/s]\n",
      " 93%|██████████████████████████████████████████████████████████████████████████▋     | 364/390 [01:37<00:06,  3.73it/s]\n",
      " 94%|██████████████████████████████████████████████████████████████████████████▊     | 365/390 [01:37<00:06,  3.73it/s]\n",
      " 94%|███████████████████████████████████████████████████████████████████████████     | 366/390 [01:38<00:06,  3.67it/s]\n",
      " 94%|███████████████████████████████████████████████████████████████████████████▎    | 367/390 [01:38<00:06,  3.71it/s]\n",
      " 94%|███████████████████████████████████████████████████████████████████████████▍    | 368/390 [01:38<00:05,  3.77it/s]\n",
      " 95%|███████████████████████████████████████████████████████████████████████████▋    | 369/390 [01:38<00:05,  3.79it/s]\n",
      " 95%|███████████████████████████████████████████████████████████████████████████▉    | 370/390 [01:39<00:05,  3.78it/s]\n",
      " 95%|████████████████████████████████████████████████████████████████████████████    | 371/390 [01:39<00:04,  3.80it/s]\n",
      " 95%|████████████████████████████████████████████████████████████████████████████▎   | 372/390 [01:39<00:04,  3.83it/s]\n",
      " 96%|████████████████████████████████████████████████████████████████████████████▌   | 373/390 [01:39<00:04,  3.80it/s]\n",
      " 96%|████████████████████████████████████████████████████████████████████████████▋   | 374/390 [01:40<00:04,  3.81it/s]\n",
      " 96%|████████████████████████████████████████████████████████████████████████████▉   | 375/390 [01:40<00:03,  3.81it/s]\n",
      " 96%|█████████████████████████████████████████████████████████████████████████████▏  | 376/390 [01:40<00:03,  3.82it/s]\n",
      " 97%|█████████████████████████████████████████████████████████████████████████████▎  | 377/390 [01:40<00:03,  3.82it/s]\n",
      " 97%|█████████████████████████████████████████████████████████████████████████████▌  | 378/390 [01:41<00:03,  3.83it/s]\n",
      " 97%|█████████████████████████████████████████████████████████████████████████████▋  | 379/390 [01:41<00:02,  3.68it/s]\n",
      " 97%|█████████████████████████████████████████████████████████████████████████████▉  | 380/390 [01:41<00:02,  3.71it/s]\n",
      " 98%|██████████████████████████████████████████████████████████████████████████████▏ | 381/390 [01:42<00:02,  3.75it/s]\n",
      " 98%|██████████████████████████████████████████████████████████████████████████████▎ | 382/390 [01:42<00:02,  3.77it/s]\n",
      " 98%|██████████████████████████████████████████████████████████████████████████████▌ | 383/390 [01:42<00:01,  3.76it/s]\n",
      " 98%|██████████████████████████████████████████████████████████████████████████████▊ | 384/390 [01:42<00:01,  3.78it/s]\n",
      " 99%|██████████████████████████████████████████████████████████████████████████████▉ | 385/390 [01:43<00:01,  3.79it/s]\n",
      " 99%|███████████████████████████████████████████████████████████████████████████████▏| 386/390 [01:43<00:01,  3.82it/s]\n",
      " 99%|███████████████████████████████████████████████████████████████████████████████▍| 387/390 [01:43<00:00,  3.78it/s]\n",
      " 99%|███████████████████████████████████████████████████████████████████████████████▌| 388/390 [01:43<00:00,  3.80it/s]\n",
      "100%|███████████████████████████████████████████████████████████████████████████████▊| 389/390 [01:44<00:00,  3.82it/s]\n",
      "100%|████████████████████████████████████████████████████████████████████████████████| 390/390 [01:44<00:00,  3.84it/s]\n"
     ]
    }
   ],
   "source": [
    "create_training_set_vectors(model, X_train, y_train, batch_size, 'saver/model_epoch_5.ckpt', image_size)"
   ]
  },
  {
   "cell_type": "code",
   "execution_count": 140,
   "metadata": {},
   "outputs": [],
   "source": [
    "def compare_color(color_vectors, \n",
    "                  uploaded_image_colors, \n",
    "                  ids):\n",
    "    '''\n",
    "    Comparing color vectors of closest images from the training set with a color vector of a uploaded image (query image).\n",
    "    \n",
    "    :param color_vectors: color features vectors of closest training set images to the uploaded image\n",
    "    :param uploaded_image_colors: color vector of the uploaded image\n",
    "    :param ids: indices of training images being closest to the uploaded image (output from a distance function) \n",
    "    '''\n",
    "    color_distances = []\n",
    "    \n",
    "    for i in range(len(color_vectors)):\n",
    "        color_distances.append(euclidean(color_vectors[i], uploaded_image_colors))\n",
    "        \n",
    "    #The 15 is just an random number that I have choosen, you can return as many as you need/want\n",
    "    return ids[np.argsort(color_distances)[:15]] "
   ]
  },
  {
   "cell_type": "code",
   "execution_count": 3,
   "metadata": {},
   "outputs": [],
   "source": [
    "def simple_inference(model, \n",
    "                     session,\n",
    "                     train_set_vectors, \n",
    "                     uploaded_image_path,\n",
    "                     image_size, \n",
    "                     distance='hamming'):\n",
    "    \n",
    "    '''\n",
    "    Doing simple inference for single uploaded image.\n",
    "    \n",
    "    :param model: CNN model\n",
    "    :param session: tf.Session, restored session\n",
    "    :param train_set_vectors: loaded training set vectors\n",
    "    :param uploaded_image_path: string, path to the uploaded image\n",
    "    :param image_size: tuple, single image (height, width)\n",
    "    :param dsitance: string, type of distance to be used, \n",
    "                             this parameter is used to choose a way how to prepare vectors\n",
    "    '''\n",
    "    \n",
    "    image = image_loader(uploaded_image_path, image_size)\n",
    "    channels = cv2.split(image)\n",
    "    features = []\n",
    "    \n",
    "    for chan in channels:\n",
    "        hist = cv2.calcHist([chan], [0], None, [256], [0, 256])\n",
    "        features.append(hist)\n",
    "\n",
    "    color_features = np.vstack(features).T\n",
    "    \n",
    "    feed_dict = {model.inputs:[image], model.dropout_rate:0.0}\n",
    "    \n",
    "    dense_2_features, dense_4_features = session.run([model.dense_2_features, model.dense_4_features], feed_dict=feed_dict)\n",
    "    \n",
    "    closest_ids = None\n",
    "    if distance == 'hamming':\n",
    "        dense_2_features = np.where(dense_2_features < 0.5, 0, 1)\n",
    "        dense_4_features = np.where(dense_4_features < 0.5, 0, 1)\n",
    "        \n",
    "        uploaded_image_vector = np.hstack((dense_2_features, dense_4_features))\n",
    "        \n",
    "        closest_ids = hamming_distance(train_set_vectors, uploaded_image_vector)\n",
    "        \n",
    "    elif distance == 'cosine':\n",
    "        uploaded_image_vector = np.hstack((dense_2_features, dense_4_features))\n",
    "        \n",
    "        closest_ids = cosine_distance(train_set_vectors, uploaded_image_vector)\n",
    "        \n",
    "    return closest_ids"
   ]
  },
  {
   "cell_type": "code",
   "execution_count": 5,
   "metadata": {},
   "outputs": [],
   "source": [
    "def simple_inference_with_color_filters(model, \n",
    "                                         session,\n",
    "                                         train_set_vectors, \n",
    "                                         uploaded_image_path,\n",
    "                                         color_vectors,\n",
    "                                         image_size, \n",
    "                                         distance='hamming'):\n",
    "    \n",
    "    '''\n",
    "    Doing simple inference for single uploaded image.\n",
    "    \n",
    "    :param model: CNN model\n",
    "    :param session: tf.Session, restored session\n",
    "    :param train_set_vectors: loaded training set vectors\n",
    "    :param uploaded_image_path: string, path to the uploaded image\n",
    "    :param color_vectors: loaded training set color features vectors\n",
    "    :param image_size: tuple, single image (height, width)\n",
    "    :param dsitance: string, type of distance to be used, \n",
    "                             this parameter is used to choose a way how to prepare vectors\n",
    "    '''\n",
    "    \n",
    "    image = image_loader(uploaded_image_path, image_size)\n",
    "    \n",
    "    ####################################################\n",
    "    ## Calculating color histogram of the query image ##\n",
    "    channels = cv2.split(image)\n",
    "    features = []\n",
    "    for chan in channels:\n",
    "        hist = cv2.calcHist([chan], [0], None, [256], [0, 256])\n",
    "        features.append(hist)\n",
    "\n",
    "    color_features = np.vstack(features).T\n",
    "    ####################################################\n",
    "    \n",
    "    feed_dict = {model.inputs:[image], model.dropout_rate:0.0}\n",
    "    \n",
    "    dense_2_features, dense_4_features = session.run([model.dense_2_features, model.dense_4_features], feed_dict=feed_dict)\n",
    "    \n",
    "    closest_ids = None\n",
    "    if distance == 'hamming':\n",
    "        dense_2_features = np.where(dense_2_features < 0.5, 0, 1)\n",
    "        dense_4_features = np.where(dense_4_features < 0.5, 0, 1)\n",
    "        \n",
    "        uploaded_image_vector = np.hstack((dense_2_features, dense_4_features))\n",
    "        \n",
    "        closest_ids = hamming_distance(train_set_vectors, uploaded_image_vector)\n",
    "        \n",
    "        #Comparing color features between query image and closest images selected by the model\n",
    "        closest_ids = compare_color(np.array(color_vectors)[closest_ids], color_features, closest_ids)\n",
    "        \n",
    "    elif distance == 'cosine':\n",
    "        uploaded_image_vector = np.hstack((dense_2_features, dense_4_features))\n",
    "        \n",
    "        closest_ids = cosine_distance(train_set_vectors, uploaded_image_vector)\n",
    "        \n",
    "        #Comparing color features between query image and closest images selected by the model\n",
    "        closest_ids = compare_color(np.array(color_vectors)[closest_ids], color_features, closest_ids)\n",
    "        \n",
    "    return closest_ids"
   ]
  },
  {
   "cell_type": "markdown",
   "metadata": {},
   "source": [
    "### Pipeline test\n",
    "\n",
    "#### Define session and model"
   ]
  },
  {
   "cell_type": "code",
   "execution_count": 83,
   "metadata": {},
   "outputs": [],
   "source": [
    "model = ImageSearchModel(learning_rate=learning_rate, image_size=image_size)\n",
    "\n",
    "session = tf.Session()\n",
    "session.run(tf.global_variables_initializer())"
   ]
  },
  {
   "cell_type": "markdown",
   "metadata": {},
   "source": [
    "#### Restore session"
   ]
  },
  {
   "cell_type": "code",
   "execution_count": 84,
   "metadata": {},
   "outputs": [
    {
     "name": "stdout",
     "output_type": "stream",
     "text": [
      "INFO:tensorflow:Restoring parameters from saver/model_epoch_5.ckpt\n"
     ]
    }
   ],
   "source": [
    "saver = tf.train.Saver()\n",
    "saver.restore(session, \"saver/model_epoch_5.ckpt\")"
   ]
  },
  {
   "cell_type": "markdown",
   "metadata": {},
   "source": [
    "#### Load training set image paths"
   ]
  },
  {
   "cell_type": "code",
   "execution_count": 85,
   "metadata": {},
   "outputs": [],
   "source": [
    "with open('train_images_pickle.pickle', 'rb') as f:\n",
    "    train_image_paths = pickle.load(f)"
   ]
  },
  {
   "cell_type": "code",
   "execution_count": 86,
   "metadata": {},
   "outputs": [
    {
     "data": {
      "text/plain": [
       "['dataset/train/0_frog.png',\n",
       " 'dataset/train/10000_automobile.png',\n",
       " 'dataset/train/10001_frog.png',\n",
       " 'dataset/train/10002_frog.png',\n",
       " 'dataset/train/10003_ship.png',\n",
       " 'dataset/train/10004_ship.png',\n",
       " 'dataset/train/10005_cat.png',\n",
       " 'dataset/train/10006_deer.png',\n",
       " 'dataset/train/10007_frog.png',\n",
       " 'dataset/train/10008_airplane.png']"
      ]
     },
     "execution_count": 86,
     "metadata": {},
     "output_type": "execute_result"
    }
   ],
   "source": [
    "train_image_paths[:10]"
   ]
  },
  {
   "cell_type": "markdown",
   "metadata": {},
   "source": [
    "#### Load trainig set vectors"
   ]
  },
  {
   "cell_type": "code",
   "execution_count": 91,
   "metadata": {},
   "outputs": [],
   "source": [
    "with open('hamming_train_vectors_new.pickle', 'rb') as f:\n",
    "    train_set_vectors = pickle.load(f)"
   ]
  },
  {
   "cell_type": "code",
   "execution_count": 88,
   "metadata": {},
   "outputs": [],
   "source": [
    "with open('color_vectors.pickle', 'rb') as f:\n",
    "    color_vectors = pickle.load(f)"
   ]
  },
  {
   "cell_type": "code",
   "execution_count": 176,
   "metadata": {},
   "outputs": [],
   "source": [
    "test_image = 'dataset/test/1052_airplane.png'"
   ]
  },
  {
   "cell_type": "markdown",
   "metadata": {},
   "source": [
    "#### Get closest images - ids"
   ]
  },
  {
   "cell_type": "code",
   "execution_count": 177,
   "metadata": {},
   "outputs": [],
   "source": [
    "result_ids = simple_inference(model, session, train_set_vectors, test_image, color_vectors, image_size, distance='hamming')"
   ]
  },
  {
   "cell_type": "markdown",
   "metadata": {},
   "source": [
    "### Show query image"
   ]
  },
  {
   "cell_type": "code",
   "execution_count": 178,
   "metadata": {},
   "outputs": [
    {
     "data": {
      "text/plain": [
       "<matplotlib.image.AxesImage at 0x233183e35c0>"
      ]
     },
     "execution_count": 178,
     "metadata": {},
     "output_type": "execute_result"
    },
    {
     "data": {
      "image/png": "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\n",
      "text/plain": [
       "<Figure size 432x288 with 1 Axes>"
      ]
     },
     "metadata": {
      "needs_background": "light"
     },
     "output_type": "display_data"
    }
   ],
   "source": [
    "plt.imshow(image_loader(test_image, image_size))"
   ]
  },
  {
   "cell_type": "markdown",
   "metadata": {},
   "source": [
    "### Show result images"
   ]
  },
  {
   "cell_type": "code",
   "execution_count": 179,
   "metadata": {},
   "outputs": [
    {
     "data": {
      "image/png": "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\n",
      "text/plain": [
       "<Figure size 1152x1152 with 14 Axes>"
      ]
     },
     "metadata": {
      "needs_background": "light"
     },
     "output_type": "display_data"
    }
   ],
   "source": [
    "w = 10\n",
    "h = 10\n",
    "fig = plt.figure(figsize=(16, 16))\n",
    "colums = 10\n",
    "rows = 5\n",
    "for i in range(1, colums*rows+1):\n",
    "    try:\n",
    "        image = image_loader(train_image_paths[result_ids[i]], image_size)\n",
    "        fig.add_subplot(rows, colums, i)\n",
    "        plt.imshow(image)\n",
    "    except:\n",
    "        pass\n",
    "plt.show()"
   ]
  },
  {
   "cell_type": "markdown",
   "metadata": {},
   "source": []
  }
